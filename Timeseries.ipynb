{
  "nbformat": 4,
  "nbformat_minor": 0,
  "metadata": {
    "colab": {
      "provenance": [],
      "mount_file_id": "1MUPhAC_uJeZKxp0g9z8gsp8DZNNBgAMB",
      "authorship_tag": "ABX9TyM1T4FwmCEaGBHs3G60laIo",
      "include_colab_link": true
    },
    "kernelspec": {
      "name": "python3",
      "display_name": "Python 3"
    },
    "language_info": {
      "name": "python"
    }
  },
  "cells": [
    {
      "cell_type": "markdown",
      "metadata": {
        "id": "view-in-github",
        "colab_type": "text"
      },
      "source": [
        "<a href=\"https://colab.research.google.com/github/okayhrm/ARIMAtimeseries/blob/main/Timeseries.ipynb\" target=\"_parent\"><img src=\"https://colab.research.google.com/assets/colab-badge.svg\" alt=\"Open In Colab\"/></a>"
      ]
    },
    {
      "cell_type": "code",
      "execution_count": null,
      "metadata": {
        "id": "xozqXZnoT89W"
      },
      "outputs": [],
      "source": [
        "import numpy as np\n",
        "import pandas as pd\n",
        "from sklearn import linear_model\n",
        "import matplotlib.pyplot as plt\n",
        "%matplotlib inline\n",
        "from matplotlib.pylab import rcParams\n",
        "rcParams['figure.figsize']= 10,6"
      ]
    },
    {
      "cell_type": "code",
      "source": [
        "dataset = pd.read_excel('')\n",
        "medname = dataset[dataset['Medicine']=='Name']"
      ],
      "metadata": {
        "id": "qt4OF7cLVIA0"
      },
      "execution_count": null,
      "outputs": []
    },
    {
      "cell_type": "code",
      "source": [
        "from google.colab import drive\n",
        "drive.mount('/content/drive')"
      ],
      "metadata": {
        "id": "pgZLMEUqXXlI"
      },
      "execution_count": null,
      "outputs": []
    },
    {
      "cell_type": "code",
      "source": [
        "plt.xlabel('Medicines Sold')\n",
        "plt.ylabel('Month')\n",
        "plt.plot(medname)"
      ],
      "metadata": {
        "id": "sBhrLx_qVhHj"
      },
      "execution_count": null,
      "outputs": []
    },
    {
      "cell_type": "code",
      "source": [
        "#determining singularity\n",
        "rolmean = medname.rolling.mean()\n",
        "rolstd = medname.rolling.std()\n",
        "print(rolmean,rolstd)"
      ],
      "metadata": {
        "id": "NPvibVB7bTFw"
      },
      "execution_count": null,
      "outputs": []
    },
    {
      "cell_type": "code",
      "source": [
        "#plotting it\n",
        "original = plt.plot(medname,color = 'blue',label = 'original')\n",
        "mean = plt.plot(rolmean,color = 'red', label = 'Rolling Mean')\n",
        "std = plt.plot(rolstd, color = 'black', label = 'Rolling Std')\n",
        "plt.title('Rolling Mean and Standard Deviation')\n",
        "plt.show(block=false)\n"
      ],
      "metadata": {
        "id": "KOnpseLNc111"
      },
      "execution_count": null,
      "outputs": []
    },
    {
      "cell_type": "code",
      "source": [
        "#Augumented Dickey - Fuler Test(Do either one , both for practice)\n",
        "from statsmodels.tsa.stattools import adfuller\n",
        "print('Results of Dickey Fuller Test:')\n",
        "dftest = adfuller(medname['Consumption'], autolag = 'AIC')\n",
        "dfoutput = pd.series(dftest[0:4], index =['Test Statistc','p-value','Lags used','number of observations used'])\n",
        "for key,value in dftest[4].items():\n",
        "  dfoutput['Criticial Value (%s)'%key] = value\n",
        "print(dfoutput)\n"
      ],
      "metadata": {
        "id": "ZQnwCdRcfqwa"
      },
      "execution_count": null,
      "outputs": []
    },
    {
      "cell_type": "code",
      "source": [
        "#done to create singularity\n",
        "medname_logscale = np.log(medname)\n",
        "plt.plot(medname_logscale)"
      ],
      "metadata": {
        "id": "GD_if1wXnjPn"
      },
      "execution_count": null,
      "outputs": []
    },
    {
      "cell_type": "code",
      "source": [
        "movingaverage = medname_logscale.rolling.mean()\n",
        "movingstd = medname_logscale.rolling.std()\n",
        "plt.plot(medname_logscale)\n",
        "plt.plot(movingaverage, color = 'red')"
      ],
      "metadata": {
        "id": "Nghslek2rniK"
      },
      "execution_count": null,
      "outputs": []
    },
    {
      "cell_type": "code",
      "source": [
        "#LMMA = data set log set minus moving average\n",
        "LLMA = medname_logscale - movingaverage\n",
        "\n",
        "LLMA.dropna(inplace=True)"
      ],
      "metadata": {
        "id": "-WOxRr_wu9Ty"
      },
      "execution_count": null,
      "outputs": []
    },
    {
      "cell_type": "code",
      "source": [
        "from statsmodels.tsa.stattools\n",
        "def test_stationary(timeseries):\n",
        "  movingavg = timeseries.rolling.mean()\n",
        "  movingSTD = timeseries.rolling.std()\n",
        "\n",
        "  orig = plt.plot(timeseries, color = 'blue',label = 'original')\n",
        "  mean = plt.plot(movingavg, color ='red',label = 'Rolling Mean')\n",
        "  std = plt.plot(movingSTD,color = 'black', label = 'Rolling std')\n",
        "  plt.legend(loc = 'best')\n",
        "  plt.title('Rolling Mean and Rolling Std')\n",
        "  plt.show(block =False)\n",
        "\n",
        "  dftest = adfuller(timeseries['Consumption'], autolag ='AIC')\n",
        "  dfoutput = pd.Series(dftest[0:4], index=['Test Statistic','p-value','Lags Used','Number of Obeservations'])\n",
        "  for key,value in dftest[4].items():\n",
        "    dfoutput['Critical Value (%s)',%key] = value\n",
        "  print(dfoutput)\n",
        "\n",
        "\n"
      ],
      "metadata": {
        "id": "vXY5OhiDxJrq"
      },
      "execution_count": null,
      "outputs": []
    },
    {
      "cell_type": "code",
      "source": [
        "test_stationary(LLMA)"
      ],
      "metadata": {
        "id": "EUD5RN0X4-hb"
      },
      "execution_count": null,
      "outputs": []
    },
    {
      "cell_type": "code",
      "source": [
        "#DSLDS = Data set logdiff shift\n",
        "DSLDS = medname_logscale - medname_logscale.shift()\n",
        "plt.plot(DSLDS)"
      ],
      "metadata": {
        "id": "YweOE19q5H6a"
      },
      "execution_count": null,
      "outputs": []
    },
    {
      "cell_type": "code",
      "source": [
        "DSLDS.dropna()"
      ],
      "metadata": {
        "id": "b2cbEgF_5Sq2"
      },
      "execution_count": null,
      "outputs": []
    },
    {
      "cell_type": "code",
      "source": [
        "test_stationary(DSLDS)"
      ],
      "metadata": {
        "id": "p3GOEG-Y57Go"
      },
      "execution_count": null,
      "outputs": []
    },
    {
      "cell_type": "code",
      "source": [
        "from statsmodels.tsa.seasonal import seasonal_decompose\n",
        "decomposition = seasonal_decompose(medname_logscale)\n",
        "\n",
        "trend = decomposition.trend\n",
        "seasonal = decomposition.seasonal\n",
        "residual = decomposition.residual\n",
        "\n",
        "plt.subplot(411)\n",
        "plt.plot(medname_logscale,label = 'original')\n",
        "plt.subplot(412)\n",
        "plt.plot(trend,label = 'trend')\n",
        "plt.subplot(413)\n",
        "plt.plot(seasonal, label = 'seasonality')\n",
        "plt.subplot(414)\n",
        "plt.plot(residual, label = 'residual')\n",
        "plt.tight_layout()\n",
        "\n",
        "decomposedLogdata = residual\n",
        "decomposedLogdata.dropna()\n",
        "test_stationary(decomposedLogdata)\n"
      ],
      "metadata": {
        "id": "zCmoLSX96BOm"
      },
      "execution_count": null,
      "outputs": []
    },
    {
      "cell_type": "code",
      "source": [
        "\n",
        "# to find p and q value we plot pcaf and acf graph\n",
        "from statsmodels.tsa.stattools import acf,pacf\n",
        "\n",
        "lag_acf = acf(DSLDS, nlags=20)\n",
        "lag_pacf = pacf(DSLDS, nlags=20)\n",
        "\n",
        "plt.subplot(121)\n",
        "plt.plot(lag_acf)\n",
        "plt.axhline(y = 0, linestyle =\"--\", color = 'gray')\n",
        "plt.axhline(y =1.96/np.sqrt(len(DSLDS)), linestyle = \"--\", color = 'gray' )\n",
        "plt.axhline(y=1.96/np.sqrt(len(DSLDS)),linestyle = \"--\",color = 'gray')\n",
        "plt.title('Autocorrelation Function')\n",
        "\n",
        "plt.subplot(122)\n",
        "plt.plot(lag_pacf)\n",
        "plt.axhline(y = 0, linestyle =\"--\", color = 'gray')\n",
        "plt.axhline(y =1.96/np.sqrt(len(DSLDS)), linestyle = \"--\", color ='gray' )\n",
        "plt.axhline(y=1.96/np.sqrt(len(DSLDS)),linestyle = \"--\",color = 'gray')\n",
        "plt.title('Partial Autocorrelation Function')"
      ],
      "metadata": {
        "id": "scRq5Mo19aKM"
      },
      "execution_count": null,
      "outputs": []
    },
    {
      "cell_type": "code",
      "source": [
        "from statsmodels.tsa.arima_model import ARIMA\n",
        "model = ARIMA(medname_logscale, order =(2,1,0))\n",
        "results_AR = model.fit(disp = -1)\n",
        "plt.plot(DSLDS)\n",
        "plt.plot(results_AR.fittedvalues, color ='red')\n",
        "plt.title('RSS: %.4f'% sum((results_AR.fittedvalues-DSLDS['Consumption'])**2))\n",
        "print('Plotting AR model')\n"
      ],
      "metadata": {
        "id": "HvrtSDgIPenS"
      },
      "execution_count": null,
      "outputs": []
    },
    {
      "cell_type": "code",
      "source": [
        "model = ARIMA(medname_logscale, order =(0,1,2))\n",
        "results_MA = model.fit(disp = -1)\n",
        "plt.plot(DSLDS)\n",
        "plt.plot(results_MA.fittedvalues, color ='red')\n",
        "plt.title('RSS: %.4f'% sum((results_MA.fittedvalues-DSLDS['Consumption'])**2))\n",
        "print('Plotting MA model')"
      ],
      "metadata": {
        "id": "oG1HKTlcWlcI"
      },
      "execution_count": null,
      "outputs": []
    },
    {
      "cell_type": "code",
      "source": [
        "model = ARIMA(medname_logscale, order =(0,1,2))\n",
        "results_MA = model.fit(disp = -1)\n",
        "plt.plot(DSLDS)\n",
        "plt.plot(results_ARIMA.fittedvalues, color ='red')\n",
        "plt.title('RSS: %.4f'% sum((results_ARIMA.fittedvalues-DSLDS['Consumption'])**2))\n",
        "print('Plotting MA model')"
      ],
      "metadata": {
        "id": "NluywVMfXt1d"
      },
      "execution_count": null,
      "outputs": []
    },
    {
      "cell_type": "code",
      "source": [
        "from pyparsing import results\n",
        "predictions_ARIMA_diff = pd.Series(results_ARIMA.fittedvalues, copy=True)"
      ],
      "metadata": {
        "id": "2WJhz5DEb5zp"
      },
      "execution_count": null,
      "outputs": []
    },
    {
      "cell_type": "code",
      "source": [
        "predictions_ARIMA_diff_cumsum =predictions_ARIMA_diff_cumsum()\n"
      ],
      "metadata": {
        "id": "6tSkXeGpcj9g"
      },
      "execution_count": null,
      "outputs": []
    },
    {
      "cell_type": "code",
      "source": [
        "predictions_ARIMA_log = pd.Series(medname_logscale['Consumption'].ix[0],index = medname_logscale.index)\n",
        "predictions_ARIMA_log = predictions_ARIMA_log.add(predictions_ARIMA_diff_cumsum,fill_value =  0)\n"
      ],
      "metadata": {
        "id": "vgDP3XxWfhAW"
      },
      "execution_count": null,
      "outputs": []
    },
    {
      "cell_type": "code",
      "source": [
        "predictions_ARIMA = np.exp(predictions_ARIMA_log)\n",
        "plt.plot(medname)\n",
        "plt.plot(predictions_ARIMA)"
      ],
      "metadata": {
        "id": "4ZypOn2Ti5Ok"
      },
      "execution_count": null,
      "outputs": []
    },
    {
      "cell_type": "code",
      "source": [
        "medname_logscale"
      ],
      "metadata": {
        "id": "oiqhOrpnjTrm"
      },
      "execution_count": null,
      "outputs": []
    },
    {
      "cell_type": "code",
      "source": [
        "results_ARIMA.plot_predict(1,24)\n",
        "x = results_ARIMA.forecast(steps=12)"
      ],
      "metadata": {
        "id": "x3uawli3mKTX"
      },
      "execution_count": null,
      "outputs": []
    },
    {
      "cell_type": "code",
      "source": [
        "x[1]"
      ],
      "metadata": {
        "id": "7av-d8vImTLZ"
      },
      "execution_count": null,
      "outputs": []
    },
    {
      "cell_type": "code",
      "source": [
        "len(x[1])"
      ],
      "metadata": {
        "id": "VVFHRSy2mg60"
      },
      "execution_count": null,
      "outputs": []
    },
    {
      "cell_type": "code",
      "source": [
        "np.exp(x[1])"
      ],
      "metadata": {
        "id": "plcRFKyRm1mE"
      },
      "execution_count": null,
      "outputs": []
    }
  ]
}